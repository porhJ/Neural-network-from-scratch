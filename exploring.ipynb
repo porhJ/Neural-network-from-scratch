{
 "cells": [
  {
   "cell_type": "code",
   "execution_count": 3,
   "id": "e5cfc30c-a1bd-42d0-9e47-9213551b6152",
   "metadata": {},
   "outputs": [],
   "source": [
    "import math\n",
    "import numpy as np"
   ]
  },
  {
   "cell_type": "code",
   "execution_count": 5,
   "id": "15c11acd-c629-47fb-b7e4-e2df569169ea",
   "metadata": {},
   "outputs": [],
   "source": [
    "def load_coffee_data():\n",
    "    rng = np.random.default_rng(2)\n",
    "    X = rng.random(400).reshape(-1,2)\n",
    "    X[:,1] = X[:,1] * 4 + 11.5          # 12-15 min is best\n",
    "    X[:,0] = X[:,0] * (285-150) + 150  # 350-500 F (175-260 C) is best\n",
    "    Y = np.zeros(len(X))\n",
    "    \n",
    "    i=0\n",
    "    for t,d in X:\n",
    "        y = -3/(260-175)*t + 21\n",
    "        if (t > 175 and t < 260 and d > 12 and d < 15 and d<=y ):\n",
    "            Y[i] = 1\n",
    "        else:\n",
    "            Y[i] = 0\n",
    "        i += 1\n",
    "\n",
    "    return (X, Y.reshape(-1,1))"
   ]
  },
  {
   "cell_type": "code",
   "execution_count": 7,
   "id": "1f17c42d-dc38-4b67-8111-58df8c5584ab",
   "metadata": {},
   "outputs": [],
   "source": [
    "def ReLU(z):\n",
    "    return np.maximum(0, z)"
   ]
  },
  {
   "cell_type": "code",
   "execution_count": 9,
   "id": "f189f705-70e5-407f-809f-5f48b3bd6500",
   "metadata": {},
   "outputs": [],
   "source": [
    "def sigmoid(z):\n",
    "    g = 1 / (1 + np.exp(-z))\n",
    "    return g"
   ]
  },
  {
   "cell_type": "code",
   "execution_count": 11,
   "id": "10665c43-4309-4da4-b42b-4fd29331e413",
   "metadata": {},
   "outputs": [],
   "source": [
    "def compute_cost(Y, model):\n",
    "    epsilon = 1e-8  # to prevent log(0)\n",
    "    loss = Y * np.log(model + epsilon) + (1 - Y) * np.log(1 - model + epsilon)\n",
    "    return -np.mean(loss)"
   ]
  },
  {
   "cell_type": "code",
   "execution_count": 13,
   "id": "d2019871-eb81-4e67-91ae-4c815e9b3aad",
   "metadata": {},
   "outputs": [],
   "source": [
    "def forward(X, W, B, layers):\n",
    "    l = len(layers)\n",
    "    Z = [0.] * l\n",
    "    A = [0.] * (l+1) #[X, A1, A2]\n",
    "    A[0] = X\n",
    "    for i in range(l):\n",
    "        Z[i] = A[i] @ W[i] + B[i]\n",
    "        if layers[i] == \"ReLU\":\n",
    "            A[i+1] = ReLU(Z[i])\n",
    "        elif layers[i] == \"Sigmoid\":\n",
    "            A[i+1] = sigmoid(Z[i])\n",
    "        elif layers[i] == \"Linear\":\n",
    "            A[i+1] = Z[i]\n",
    "    return A, Z"
   ]
  },
  {
   "cell_type": "code",
   "execution_count": 15,
   "id": "5fb0ca7a-9756-43b3-934f-7a8815e0dfea",
   "metadata": {},
   "outputs": [],
   "source": [
    "def backprop(layers, X, Y, A, B, W, Z):\n",
    "    #layers = [\"ReLU\", \"Sigmoid\"]\n",
    "    #W = [W_1, W_2]\n",
    "    #B = [B_1, B_2]\n",
    "    #C = [C_1, C_2]\n",
    "    #A = [A_0, A_1, A_2]\n",
    "    #Z = [Z_1, Z_2]\n",
    "    m = X.shape[0]\n",
    "    loss = compute_cost(Y, A[-1])\n",
    "    dJ_dW = [0.]*len(layers)\n",
    "    dJ_dB = [0.]*len(layers)\n",
    "    dJ_dA = - (Y/A[-1] - (1-Y)/(1-A[-1]))\n",
    "    for l in reversed(range(len(layers))):\n",
    "        if layers[l] == \"ReLU\":\n",
    "            dA_dZ = (Z[l] > 0).astype(float) \n",
    "        elif layers[l] == \"Sigmoid\":\n",
    "            dA_dZ = sigmoid(Z[l]) * (1-sigmoid(Z[l]))\n",
    "        elif layers[l] == \"Linear\":\n",
    "            dA_dZ = np.ones_like(Z[l])\n",
    "        dJ_dZ = dJ_dA * dA_dZ\n",
    "        dJ_dC = dJ_dZ\n",
    "        dJ_dB[l] = np.sum(dJ_dZ, axis=0, keepdims=True) / m\n",
    "        dC_dA = W[l]; dC_dW = A[l]\n",
    "        dJ_dA = dJ_dC @ W[l].T\n",
    "        dJ_dW[l] = (dC_dW.T @ dJ_dC) / m \n",
    "    return dJ_dW, dJ_dB"
   ]
  },
  {
   "cell_type": "code",
   "execution_count": 17,
   "id": "3614c340-6096-4ba7-bfe0-8147646c723b",
   "metadata": {},
   "outputs": [],
   "source": [
    "def gradient_descent(X, Y, W_in, B_in, num_liters, alpha, layers):\n",
    "    m, n = X.shape\n",
    "    W = W_in #np.array() 1-D\n",
    "    B = B_in #np.array() 1-D\n",
    "    l = len(layers)\n",
    "    A, Z = forward(X, W, B, layers)\n",
    "    for i in range(num_liters):\n",
    "        dJ_dW, dJ_dB = backprop(layers, X, Y, A, B, W, Z)\n",
    "        for j in range(l):\n",
    "            W[j] = W[j] - alpha * dJ_dW[j]\n",
    "            B[j] = B[j] - alpha * dJ_dB[j]\n",
    "        A, Z = forward(X, W, B, layers)\n",
    "        J = compute_cost(Y, A[-1])\n",
    "        if i % math.ceil(num_liters/10) == 0:\n",
    "            print(f'At {i}, cost function(J) = {J}')\n",
    "    return W, B"
   ]
  },
  {
   "cell_type": "code",
   "execution_count": 19,
   "id": "0343bfa7-3f1e-4f36-ba09-29afe5098ce1",
   "metadata": {},
   "outputs": [],
   "source": [
    "def normalized(X):\n",
    "    mu = np.mean(X, axis = 0)\n",
    "    sigma = np.std(X, axis = 0)\n",
    "\n",
    "    norm_X = (X-mu)/sigma\n",
    "    return norm_X, mu, sigma"
   ]
  },
  {
   "cell_type": "code",
   "execution_count": 21,
   "id": "7aa15649-c2aa-40d6-9daf-228f0eea23de",
   "metadata": {},
   "outputs": [],
   "source": [
    "def prediction(y_hat):\n",
    "    return (y_hat > 0.5).astype(int)"
   ]
  },
  {
   "cell_type": "code",
   "execution_count": 1,
   "id": "5c40c342-89da-41bb-9cff-b43d9dd519e2",
   "metadata": {},
   "outputs": [
    {
     "ename": "NameError",
     "evalue": "name 'load_coffee_data' is not defined",
     "output_type": "error",
     "traceback": [
      "\u001b[1;31m---------------------------------------------------------------------------\u001b[0m",
      "\u001b[1;31mNameError\u001b[0m                                 Traceback (most recent call last)",
      "Cell \u001b[1;32mIn[1], line 1\u001b[0m\n\u001b[1;32m----> 1\u001b[0m X, Y \u001b[38;5;241m=\u001b[39m load_coffee_data()\n",
      "\u001b[1;31mNameError\u001b[0m: name 'load_coffee_data' is not defined"
     ]
    }
   ],
   "source": [
    "X, Y = load_coffee_data()"
   ]
  },
  {
   "cell_type": "code",
   "execution_count": 25,
   "id": "3931fea9-0111-4541-8360-6dd809429610",
   "metadata": {},
   "outputs": [
    {
     "data": {
      "text/plain": [
       "((200, 2), (200, 1))"
      ]
     },
     "execution_count": 25,
     "metadata": {},
     "output_type": "execute_result"
    }
   ],
   "source": [
    "X.shape, Y.shape"
   ]
  },
  {
   "cell_type": "code",
   "execution_count": 27,
   "id": "affdd83e-8d97-4bef-87f5-0d6adf3d0384",
   "metadata": {},
   "outputs": [],
   "source": [
    "#plan\n",
    "#input: X (200, 2)\n",
    "#Layer1 : 3 neurons, W_1 (2, 3) B_1 (3,) => output: A_1 (200, 3) ; activation = ReLU\n",
    "#Layer2 : 1 neurons, W_2 (3, 1) B_2 (1,) => output: A_2 (200, 1) ; activation = Sigmoid"
   ]
  },
  {
   "cell_type": "code",
   "execution_count": 29,
   "id": "370b52d4-e846-4068-8b80-d6dd41664957",
   "metadata": {},
   "outputs": [],
   "source": [
    "X_train = X[:160]; Y_train = Y[:160]\n",
    "X_test = X[160:]; Y_test = Y[160:] \n",
    "W_1_in = np.random.randn(2, 3) * 0.01\n",
    "B_1_in = np.zeros((3,))\n",
    "W_2_in = np.random.randn(3, 1) * 0.01\n",
    "B_2_in = np.zeros((1,))\n",
    "W = [W_1_in, W_2_in]\n",
    "B = [B_1_in, B_2_in]"
   ]
  },
  {
   "cell_type": "code",
   "execution_count": 31,
   "id": "1995b81a-f5d2-4aa0-b392-fbe854655ef9",
   "metadata": {},
   "outputs": [],
   "source": [
    "norm_X_train, mu, sigma = normalized(X_train)"
   ]
  },
  {
   "cell_type": "code",
   "execution_count": 33,
   "id": "b26f529f-dd09-4f96-a76f-056e397a4320",
   "metadata": {},
   "outputs": [
    {
     "data": {
      "text/plain": [
       "array([[-0.81483957, -0.6340911 ],\n",
       "       [ 1.06004726, -1.364514  ]])"
      ]
     },
     "execution_count": 33,
     "metadata": {},
     "output_type": "execute_result"
    }
   ],
   "source": [
    "norm_X_train[:2]"
   ]
  },
  {
   "cell_type": "code",
   "execution_count": 51,
   "id": "429a306c-03c3-4e19-8a4e-5ecf652e8db5",
   "metadata": {},
   "outputs": [
    {
     "name": "stdout",
     "output_type": "stream",
     "text": [
      "At 0, cost function(J) = 0.0030606047027810657\n",
      "At 1000, cost function(J) = 0.0030292306339489796\n",
      "At 2000, cost function(J) = 0.0029984629252984263\n",
      "At 3000, cost function(J) = 0.0029682844350143603\n",
      "At 4000, cost function(J) = 0.002938678661322723\n",
      "At 5000, cost function(J) = 0.002909629711680424\n",
      "At 6000, cost function(J) = 0.0028811222744228445\n",
      "At 7000, cost function(J) = 0.0028531415921830014\n",
      "At 8000, cost function(J) = 0.00282567343683372\n",
      "At 9000, cost function(J) = 0.002798704085818311\n"
     ]
    }
   ],
   "source": [
    "num = 10000\n",
    "alpha = 1.0e-1\n",
    "layers = [\"ReLU\", \"Sigmoid\"]\n",
    "\n",
    "W_last, B_last = gradient_descent(norm_X_train, Y_train, W, B, num, alpha, layers)"
   ]
  },
  {
   "cell_type": "code",
   "execution_count": 53,
   "id": "c965a64f-97cb-4695-9856-ca4c0ea70872",
   "metadata": {},
   "outputs": [],
   "source": [
    "norm_X_test = (X_test - mu) / sigma"
   ]
  },
  {
   "cell_type": "code",
   "execution_count": 61,
   "id": "6a6779a9-b34b-482c-8c8d-3ec9dc04591b",
   "metadata": {},
   "outputs": [
    {
     "data": {
      "text/plain": [
       "([array([[-7.68619626,  8.52389134,  0.97309671],\n",
       "         [-0.43056969,  7.48970029, -5.54866459]]),\n",
       "  array([[-10.48745964],\n",
       "         [-11.46239182],\n",
       "         [ -7.74102841]])],\n",
       " [array([[-7.12213836,  1.62403004, -5.30967404]]), array([[13.44611012]])])"
      ]
     },
     "execution_count": 61,
     "metadata": {},
     "output_type": "execute_result"
    }
   ],
   "source": [
    "W_last, B_last"
   ]
  },
  {
   "cell_type": "code",
   "execution_count": 63,
   "id": "ca5dfeb6-c104-411b-a388-4d3020ddd78c",
   "metadata": {},
   "outputs": [],
   "source": [
    "A, _ = forward(norm_X_test, W_last, B_last, layers)\n",
    "Y_hat = A[-1]"
   ]
  },
  {
   "cell_type": "code",
   "execution_count": 65,
   "id": "a99a2bfa-3bfb-46f9-b3e9-7d7c3dc532cf",
   "metadata": {},
   "outputs": [
    {
     "data": {
      "text/plain": [
       "92.5"
      ]
     },
     "execution_count": 65,
     "metadata": {},
     "output_type": "execute_result"
    }
   ],
   "source": [
    "accuracy = (prediction(Y_hat) == Y_test).mean()\n",
    "accuracy*100 "
   ]
  },
  {
   "cell_type": "code",
   "execution_count": 67,
   "id": "b5592c31-75b3-4446-ba1e-647c61185af5",
   "metadata": {},
   "outputs": [
    {
     "data": {
      "text/plain": [
       "array([[0],\n",
       "       [1],\n",
       "       [0],\n",
       "       [0],\n",
       "       [0]])"
      ]
     },
     "execution_count": 67,
     "metadata": {},
     "output_type": "execute_result"
    }
   ],
   "source": [
    "prediction(Y_hat[:5])"
   ]
  },
  {
   "cell_type": "code",
   "execution_count": 69,
   "id": "5794d28d-1111-4ce0-adfa-b88a2efdffd0",
   "metadata": {},
   "outputs": [
    {
     "data": {
      "text/plain": [
       "array([[0.],\n",
       "       [1.],\n",
       "       [0.],\n",
       "       [0.],\n",
       "       [0.]])"
      ]
     },
     "execution_count": 69,
     "metadata": {},
     "output_type": "execute_result"
    }
   ],
   "source": [
    "Y_test[:5]"
   ]
  }
 ],
 "metadata": {
  "kernelspec": {
   "display_name": "Python [conda env:base] *",
   "language": "python",
   "name": "conda-base-py"
  },
  "language_info": {
   "codemirror_mode": {
    "name": "ipython",
    "version": 3
   },
   "file_extension": ".py",
   "mimetype": "text/x-python",
   "name": "python",
   "nbconvert_exporter": "python",
   "pygments_lexer": "ipython3",
   "version": "3.12.7"
  }
 },
 "nbformat": 4,
 "nbformat_minor": 5
}
